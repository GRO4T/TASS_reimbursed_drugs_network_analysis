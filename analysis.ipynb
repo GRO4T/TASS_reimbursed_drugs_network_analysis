{
 "cells": [
  {
   "cell_type": "code",
   "execution_count": null,
   "metadata": {},
   "outputs": [],
   "source": [
    "import os\n",
    "import pandas as pd\n",
    "import network_util"
   ]
  },
  {
   "cell_type": "code",
   "execution_count": null,
   "metadata": {},
   "outputs": [],
   "source": [
    "columns = \"D,E,L,Q\"\n",
    "reimbursed_medicines_path = os.path.join(\"data\", \"Refundowane.xlsx\")\n",
    "reimbursed_medicines_df = pd.read_excel(\n",
    "    reimbursed_medicines_path, sheet_name=\"A1\", skiprows=1, usecols=columns, decimal=\",\"\n",
    ")\n",
    "reimbursed_medicines_df = reimbursed_medicines_df.rename(\n",
    "    columns={\n",
    "        \"Zawartość opakowania\": \"Package\",\n",
    "        \"Numer GTIN lub inny kod jednoznacznie identyfikujący produkt\": \"GTIN\",\n",
    "        \"Cena detaliczna\": \"Price\",\n",
    "        \"Wysokość dopłaty świadczeniobiorcy\": \"Supplement\",\n",
    "    }\n",
    ")\n",
    "reimbursed_medicines_df[\"Price\"] = reimbursed_medicines_df[\"Price\"].astype(float)\n",
    "reimbursed_medicines_df[\"Supplement\"] = reimbursed_medicines_df[\"Supplement\"].astype(\n",
    "    float\n",
    ")\n",
    "reimbursed_medicines_df[\"Refund_amount\"] = (\n",
    "    reimbursed_medicines_df[\"Price\"] - reimbursed_medicines_df[\"Supplement\"]\n",
    ")\n",
    "reimbursed_medicines_df[\"Package\"] = reimbursed_medicines_df[\"Package\"].str.extract(r\"(\\d+)\").astype(int)\n",
    "reimbursed_medicines_df.drop([\"Price\", \"Supplement\"], axis=1, inplace=True)\n",
    "display(reimbursed_medicines_df)"
   ]
  },
  {
   "cell_type": "code",
   "execution_count": null,
   "metadata": {},
   "outputs": [],
   "source": [
    "rpl_path = os.path.join(\"data\", \"RPL_20240102.csv\")\n",
    "cols_to_drop=[0, 1, 2, 3, 4, 5, 6, 7, 9, 10, 11, 12, 17, 18, 19, 20, 21, 22, 23, 24, 25]\n",
    "\n",
    "rpl_df = pd.read_csv(rpl_path, sep=\";\")\n",
    "rpl_df.drop(rpl_df.columns[cols_to_drop], inplace=True, axis=1)\n",
    "rpl_df.dropna(subset=[\"Substancja czynna\", \"Podmiot odpowiedzialny\"], inplace=True)\n",
    "display(rpl_df)"
   ]
  },
  {
   "cell_type": "code",
   "execution_count": null,
   "metadata": {},
   "outputs": [],
   "source": [
    "rpl_df[\"Opakowanie\"] = rpl_df[\"Opakowanie\"].str.replace(\"\\n\", \" \")\n",
    "rpl_df[\"GTIN\"] = rpl_df[\"Opakowanie\"].str.extractall(r\"(\\d{12,14}|\\d{8})\").groupby(level=0)[0].apply(list)\n",
    "rpl_df = rpl_df.explode(\"GTIN\")\n",
    "rpl_df.drop(\"Opakowanie\", axis=1, inplace=True)\n",
    "rpl_df.dropna(subset=[\"GTIN\"], inplace=True)\n",
    "rpl_df[\"GTIN\"] = rpl_df[\"GTIN\"].astype(int)"
   ]
  },
  {
   "cell_type": "code",
   "execution_count": null,
   "metadata": {},
   "outputs": [],
   "source": [
    "merged_df = pd.merge(reimbursed_medicines_df, rpl_df, how=\"inner\", left_on=\"GTIN\", right_on=\"GTIN\")\n",
    "merged_df = merged_df.rename(\n",
    "    columns={\n",
    "        \"Postać farmaceutyczna\": \"Form\",\n",
    "        \"Podmiot odpowiedzialny\": \"Responsible_entity\",\n",
    "        \"Substancja czynna\": \"Substance\",\n",
    "        \"Nazwa wytwórcy\": \"Producer\",\n",
    "    }\n",
    ")\n",
    "merged_df[\"Producer\"] = merged_df[\"Producer\"].str.replace(\"\\n\", \" \")"
   ]
  },
  {
   "cell_type": "code",
   "execution_count": null,
   "metadata": {},
   "outputs": [],
   "source": [
    "merged_df[\"Refund_per_unit\"] = merged_df[\"Refund_amount\"] / merged_df[\"Package\"]\n",
    "merged_df[\"Mean_refund\"] = merged_df.groupby([\"Form\", \"Responsible_entity\", \"Substance\"])[\"Refund_per_unit\"].transform(\"mean\")\n",
    "merged_df.drop([\"Refund_amount\", \"Refund_per_unit\", \"Package\"], axis=1, inplace=True)\n",
    "display(merged_df)"
   ]
  },
  {
   "cell_type": "code",
   "execution_count": null,
   "metadata": {},
   "outputs": [],
   "source": [
    "merged_df.drop_duplicates([\"Form\", \"Responsible_entity\", \"Substance\", \"Producer\", \"Mean_refund\"], inplace=True)\n",
    "display(merged_df)"
   ]
  },
  {
   "cell_type": "code",
   "execution_count": null,
   "metadata": {},
   "outputs": [],
   "source": [
    "import matplotlib.pyplot as plt\n",
    "import networkx as nx"
   ]
  },
  {
   "cell_type": "code",
   "execution_count": null,
   "metadata": {},
   "outputs": [],
   "source": [
    "G = network_util.create_bipartite_graph(merged_df[\"Substance\"], merged_df['Responsible_entity'], merged_df[\"Mean_refund\"])\n",
    "pos = network_util.create_bipartite_layout(merged_df[\"Substance\"], merged_df['Responsible_entity'])"
   ]
  },
  {
   "cell_type": "code",
   "execution_count": null,
   "metadata": {},
   "outputs": [],
   "source": [
    "plt.figure(figsize=(12, 20))\n",
    "nx.draw(G, pos=pos, with_labels=True, font_weight='bold', node_color='skyblue', font_size=4)\n",
    "plt.show()"
   ]
  }
 ],
 "metadata": {
  "kernelspec": {
   "display_name": ".venv",
   "language": "python",
   "name": "python3"
  },
  "language_info": {
   "codemirror_mode": {
    "name": "ipython",
    "version": 3
   },
   "file_extension": ".py",
   "mimetype": "text/x-python",
   "name": "python",
   "nbconvert_exporter": "python",
   "pygments_lexer": "ipython3",
   "version": "3.11.6"
  }
 },
 "nbformat": 4,
 "nbformat_minor": 2
}
