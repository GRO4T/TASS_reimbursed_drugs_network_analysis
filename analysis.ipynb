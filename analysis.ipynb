{
 "cells": [
  {
   "cell_type": "code",
   "execution_count": null,
   "metadata": {},
   "outputs": [],
   "source": [
    "import os\n",
    "import pandas as pd"
   ]
  },
  {
   "cell_type": "code",
   "execution_count": null,
   "metadata": {},
   "outputs": [],
   "source": [
    "columns = \"E,I:K\"\n",
    "reimbursed_medicines_path = os.path.join(\"data\", \"Refundowane.xlsx\")\n",
    "reimbursed_medicines_df = pd.read_excel(reimbursed_medicines_path, sheet_name=\"A1\", skiprows=1, usecols=columns)\n",
    "reimbursed_medicines_df = reimbursed_medicines_df.rename(columns={\"Numer GTIN lub inny kod jednoznacznie identyfikujący produkt\" : \"GTIN\"})\n",
    "display(reimbursed_medicines_df)"
   ]
  },
  {
   "cell_type": "code",
   "execution_count": null,
   "metadata": {},
   "outputs": [],
   "source": [
    "rpl_path = os.path.join(\"data\", \"RPL_20240102.csv\")\n",
    "cols_to_drop=[0, 1, 2, 3, 4, 5, 6, 7, 9, 10, 11, 12, 17, 18, 19, 20, 21, 22, 23, 24, 25]\n",
    "\n",
    "rpl_df = pd.read_csv(rpl_path, sep=\";\")\n",
    "rpl_df.drop(rpl_df.columns[cols_to_drop], inplace=True, axis=1)\n",
    "display(rpl_df)"
   ]
  },
  {
   "cell_type": "code",
   "execution_count": null,
   "metadata": {},
   "outputs": [],
   "source": [
    "rpl_df[\"Opakowanie\"] = rpl_df[\"Opakowanie\"].str.replace(\"\\n\", \" \")\n",
    "rpl_df[\"GTIN\"] = rpl_df[\"Opakowanie\"].str.extractall(r\"(\\d{12,14}|\\d{8})\").groupby(level=0)[0].apply(list)\n",
    "rpl_df = rpl_df.explode(\"GTIN\")\n",
    "rpl_df.drop(\"Opakowanie\", axis=1, inplace=True)\n",
    "rpl_df.dropna(subset=[\"GTIN\"], inplace=True)\n",
    "rpl_df[\"GTIN\"] = rpl_df[\"GTIN\"].astype(int)"
   ]
  },
  {
   "cell_type": "code",
   "execution_count": null,
   "metadata": {},
   "outputs": [],
   "source": [
    "merged_df = pd.merge(reimbursed_medicines_df, rpl_df, how=\"left\", left_on=\"GTIN\", right_on=\"GTIN\")\n",
    "merged_df"
   ]
  }
 ],
 "metadata": {
  "kernelspec": {
   "display_name": ".venv",
   "language": "python",
   "name": "python3"
  },
  "language_info": {
   "codemirror_mode": {
    "name": "ipython",
    "version": 3
   },
   "file_extension": ".py",
   "mimetype": "text/x-python",
   "name": "python",
   "nbconvert_exporter": "python",
   "pygments_lexer": "ipython3",
   "version": "3.11.6"
  }
 },
 "nbformat": 4,
 "nbformat_minor": 2
}
